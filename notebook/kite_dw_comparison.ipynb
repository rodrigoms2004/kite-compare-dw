{
 "cells": [
  {
   "cell_type": "markdown",
   "id": "529b573e",
   "metadata": {},
   "source": [
    "# Hyundai Kite "
   ]
  },
  {
   "cell_type": "code",
   "execution_count": 1,
   "id": "f0b0de04",
   "metadata": {},
   "outputs": [],
   "source": [
    "import pandas as pd\n",
    "import numpy as np\n",
    "# Import datetime from the datetime module\n",
    "from datetime import datetime"
   ]
  },
  {
   "cell_type": "markdown",
   "id": "0a84baa1",
   "metadata": {},
   "source": [
    "## Data"
   ]
  },
  {
   "cell_type": "markdown",
   "id": "c9c06cf8",
   "metadata": {},
   "source": [
    "### DW Hyundai"
   ]
  },
  {
   "cell_type": "code",
   "execution_count": 114,
   "id": "01353004",
   "metadata": {},
   "outputs": [
    {
     "name": "stdout",
     "output_type": "stream",
     "text": [
      "Wall time: 30.2 s\n"
     ]
    },
    {
     "data": {
      "text/plain": [
       "(378324, 7)"
      ]
     },
     "execution_count": 114,
     "metadata": {},
     "output_type": "execute_result"
    }
   ],
   "source": [
    "%%time\n",
    "dw = pd.read_excel('data/DW HYUNDAI.xlsx')\n",
    "dw.shape"
   ]
  },
  {
   "cell_type": "code",
   "execution_count": 115,
   "id": "fbdf3573",
   "metadata": {},
   "outputs": [],
   "source": [
    "dw = dw.astype(str)"
   ]
  },
  {
   "cell_type": "code",
   "execution_count": 122,
   "id": "a5d93988",
   "metadata": {},
   "outputs": [
    {
     "name": "stderr",
     "output_type": "stream",
     "text": [
      "C:\\Users\\rodri\\AppData\\Local\\Temp/ipykernel_8344/1361428635.py:2: FutureWarning: The default value of regex will change from True to False in a future version.\n",
      "  dw['msisdn'] = dw['msisdn'].str.replace(\"\\.0\", \"\")\n"
     ]
    }
   ],
   "source": [
    "dw.rename(columns = {'SIM_CARD': 'icc', 'LINHA': 'msisdn'}, inplace = True)\n",
    "dw['msisdn'] = dw['msisdn'].str.replace(\"\\.0\", \"\")\n",
    "dw['msisdn'] = \"55\" + dw['msisdn'].astype(str)\n",
    "\n",
    "# > df['col'] = 'str' + df['col'].astype(str)"
   ]
  },
  {
   "cell_type": "code",
   "execution_count": 162,
   "id": "87c17df4",
   "metadata": {},
   "outputs": [],
   "source": [
    "# dw.head()"
   ]
  },
  {
   "cell_type": "markdown",
   "id": "759711d1",
   "metadata": {},
   "source": [
    "### Removing duplicated iccid"
   ]
  },
  {
   "cell_type": "code",
   "execution_count": 124,
   "id": "81ad9c81",
   "metadata": {},
   "outputs": [
    {
     "data": {
      "text/plain": [
       "(68707, 7)"
      ]
     },
     "execution_count": 124,
     "metadata": {},
     "output_type": "execute_result"
    }
   ],
   "source": [
    "dw.drop_duplicates(subset=['icc'], keep='first', inplace=True)\n",
    "dw.shape"
   ]
  },
  {
   "cell_type": "markdown",
   "id": "605a9a91",
   "metadata": {},
   "source": [
    "### Kite data"
   ]
  },
  {
   "cell_type": "code",
   "execution_count": 125,
   "id": "f6f4ae70",
   "metadata": {},
   "outputs": [],
   "source": [
    "def getDataFromKite(csvFile):\n",
    "    df = pd.read_csv(csvFile, sep=';', low_memory=False)\n",
    "    df = df[['icc', 'imsi', 'msisdn']]\n",
    "    df = df.applymap(str) # change all columns to string type\n",
    "    df = df.applymap(lambda x: x.lstrip('=\"\"').rstrip('\"')) # remove unnecessary characteres\n",
    "    \n",
    "    return df"
   ]
  },
  {
   "cell_type": "code",
   "execution_count": 126,
   "id": "62ef0bff",
   "metadata": {},
   "outputs": [
    {
     "name": "stdout",
     "output_type": "stream",
     "text": [
      "Wall time: 4.56 s\n"
     ]
    },
    {
     "data": {
      "text/plain": [
       "(132112, 3)"
      ]
     },
     "execution_count": 126,
     "metadata": {},
     "output_type": "execute_result"
    }
   ],
   "source": [
    "%%time\n",
    "kite_df = getDataFromKite('data/SimInventoryExport_2022-06-24T15.30.21Z_pzkhe9-2kbeqrc2saf-62b5d88c98f29.0.csv')\n",
    "kite_df = kite_df.astype(str)\n",
    "kite_df.shape"
   ]
  },
  {
   "cell_type": "code",
   "execution_count": 161,
   "id": "59742aaf",
   "metadata": {},
   "outputs": [],
   "source": [
    "# kite_df.head()"
   ]
  },
  {
   "cell_type": "code",
   "execution_count": 128,
   "id": "29192a10",
   "metadata": {},
   "outputs": [],
   "source": [
    "# kite_df.info()"
   ]
  },
  {
   "cell_type": "markdown",
   "id": "8811dbe9",
   "metadata": {},
   "source": [
    "## Comparing data using ICC"
   ]
  },
  {
   "cell_type": "code",
   "execution_count": 129,
   "id": "c5320be2",
   "metadata": {},
   "outputs": [
    {
     "data": {
      "text/plain": [
       "((68707, 7), (132112, 3))"
      ]
     },
     "execution_count": 129,
     "metadata": {},
     "output_type": "execute_result"
    }
   ],
   "source": [
    "dw.shape, kite_df.shape"
   ]
  },
  {
   "cell_type": "markdown",
   "id": "59da1ad0",
   "metadata": {},
   "source": [
    "### Data in both Kite and DW"
   ]
  },
  {
   "cell_type": "code",
   "execution_count": 130,
   "id": "83e76459",
   "metadata": {},
   "outputs": [
    {
     "data": {
      "text/plain": [
       "(68290, 3)"
      ]
     },
     "execution_count": 130,
     "metadata": {},
     "output_type": "execute_result"
    }
   ],
   "source": [
    "# df_inner = dw.merge(kite_df, on='icc', how='inner')\n",
    "# df_inner.shape\n",
    "\n",
    "kite_and_dw = kite_df[ (kite_df['icc'].isin(dw['icc'])) ]\n",
    "kite_and_dw.shape"
   ]
  },
  {
   "cell_type": "markdown",
   "id": "1cdcd0e8",
   "metadata": {},
   "source": [
    "### Data only in Kite and not in DW"
   ]
  },
  {
   "cell_type": "code",
   "execution_count": 131,
   "id": "2e50b22e",
   "metadata": {},
   "outputs": [
    {
     "data": {
      "text/plain": [
       "(63822, 3)"
      ]
     },
     "execution_count": 131,
     "metadata": {},
     "output_type": "execute_result"
    }
   ],
   "source": [
    "only_kite = kite_df[ ~(kite_df['icc'].isin(dw['icc'])) ]\n",
    "only_kite.shape"
   ]
  },
  {
   "cell_type": "code",
   "execution_count": 132,
   "id": "1d5e449f",
   "metadata": {},
   "outputs": [
    {
     "data": {
      "text/plain": [
       "True"
      ]
     },
     "execution_count": 132,
     "metadata": {},
     "output_type": "execute_result"
    }
   ],
   "source": [
    "kite_df.shape[0] == kite_and_dw.shape[0] + only_kite.shape[0]"
   ]
  },
  {
   "cell_type": "markdown",
   "id": "3efb3e46",
   "metadata": {},
   "source": [
    "### Data only in DW"
   ]
  },
  {
   "cell_type": "code",
   "execution_count": 144,
   "id": "0acd6b38",
   "metadata": {},
   "outputs": [
    {
     "data": {
      "text/plain": [
       "(417, 7)"
      ]
     },
     "execution_count": 144,
     "metadata": {},
     "output_type": "execute_result"
    }
   ],
   "source": [
    "only_dw = dw[ ~(dw['icc'].isin(kite_df['icc'])) ]\n",
    "only_dw.shape"
   ]
  },
  {
   "cell_type": "code",
   "execution_count": 146,
   "id": "cfa0a52d",
   "metadata": {},
   "outputs": [
    {
     "data": {
      "text/plain": [
       "True"
      ]
     },
     "execution_count": 146,
     "metadata": {},
     "output_type": "execute_result"
    }
   ],
   "source": [
    "dw.shape[0] == kite_and_dw.shape[0] + only_dw.shape[0]"
   ]
  },
  {
   "cell_type": "markdown",
   "id": "5ba751f4",
   "metadata": {},
   "source": [
    "### Export"
   ]
  },
  {
   "cell_type": "code",
   "execution_count": 157,
   "id": "fd313132",
   "metadata": {},
   "outputs": [],
   "source": [
    "kite_and_dw.to_excel(\"data/kite_and_dw_24.06.2022.xlsx\")"
   ]
  },
  {
   "cell_type": "code",
   "execution_count": 158,
   "id": "f6d5b25d",
   "metadata": {},
   "outputs": [],
   "source": [
    "only_dw.to_excel(\"data/only_dw_24.06.2022.xlsx\")"
   ]
  },
  {
   "cell_type": "code",
   "execution_count": 159,
   "id": "dbfeb07a",
   "metadata": {},
   "outputs": [],
   "source": [
    "only_kite.to_excel(\"data/only_kite_24.06.2022.xlsx\")"
   ]
  },
  {
   "cell_type": "markdown",
   "id": "20093b37",
   "metadata": {},
   "source": [
    "## Comparing using msisdn"
   ]
  },
  {
   "cell_type": "markdown",
   "id": "795874f5",
   "metadata": {},
   "source": [
    "### Both kite and dw"
   ]
  },
  {
   "cell_type": "code",
   "execution_count": 139,
   "id": "65c83c99",
   "metadata": {},
   "outputs": [
    {
     "data": {
      "text/plain": [
       "(68283, 3)"
      ]
     },
     "execution_count": 139,
     "metadata": {},
     "output_type": "execute_result"
    }
   ],
   "source": [
    "kite_and_dw_msisdn = kite_df[ (kite_df['msisdn'].isin(dw['msisdn'])) ]\n",
    "kite_and_dw_msisdn.shape"
   ]
  },
  {
   "cell_type": "markdown",
   "id": "e23403e9",
   "metadata": {},
   "source": [
    "### Data only in Kite and not in DW"
   ]
  },
  {
   "cell_type": "code",
   "execution_count": 140,
   "id": "51e184f1",
   "metadata": {},
   "outputs": [
    {
     "data": {
      "text/plain": [
       "(63829, 3)"
      ]
     },
     "execution_count": 140,
     "metadata": {},
     "output_type": "execute_result"
    }
   ],
   "source": [
    "only_kite_msisdn = kite_df[ ~(kite_df['msisdn'].isin(dw['msisdn'])) ]\n",
    "only_kite_msisdn.shape"
   ]
  },
  {
   "cell_type": "code",
   "execution_count": 142,
   "id": "6cfdf968",
   "metadata": {},
   "outputs": [
    {
     "data": {
      "text/plain": [
       "True"
      ]
     },
     "execution_count": 142,
     "metadata": {},
     "output_type": "execute_result"
    }
   ],
   "source": [
    "kite_df.shape[0] == kite_and_dw_msisdn.shape[0] + only_kite_msisdn.shape[0]"
   ]
  },
  {
   "cell_type": "markdown",
   "id": "65fdae6e",
   "metadata": {},
   "source": [
    "### Data only in DW"
   ]
  },
  {
   "cell_type": "code",
   "execution_count": 148,
   "id": "79e6385d",
   "metadata": {},
   "outputs": [
    {
     "data": {
      "text/plain": [
       "(424, 7)"
      ]
     },
     "execution_count": 148,
     "metadata": {},
     "output_type": "execute_result"
    }
   ],
   "source": [
    "only_dw_msisdn = dw[ ~(dw['msisdn'].isin(kite_df['msisdn'])) ]\n",
    "only_dw_msisdn.shape"
   ]
  },
  {
   "cell_type": "code",
   "execution_count": 149,
   "id": "bb26fca5",
   "metadata": {},
   "outputs": [
    {
     "data": {
      "text/plain": [
       "True"
      ]
     },
     "execution_count": 149,
     "metadata": {},
     "output_type": "execute_result"
    }
   ],
   "source": [
    "dw.shape[0] == kite_and_dw_msisdn.shape[0] + only_dw_msisdn.shape[0]"
   ]
  },
  {
   "cell_type": "markdown",
   "id": "b0390886",
   "metadata": {},
   "source": [
    "## ICC vs MSISDN"
   ]
  },
  {
   "cell_type": "code",
   "execution_count": 156,
   "id": "bf774fd1",
   "metadata": {},
   "outputs": [
    {
     "data": {
      "text/plain": [
       "7"
      ]
     },
     "execution_count": 156,
     "metadata": {},
     "output_type": "execute_result"
    }
   ],
   "source": [
    "kite_and_dw.shape[0] - kite_and_dw_msisdn.shape[0]"
   ]
  },
  {
   "cell_type": "code",
   "execution_count": 160,
   "id": "2ad2b6b8",
   "metadata": {},
   "outputs": [],
   "source": [
    "# kite_and_dw[ ~(kite_and_dw['msisdn'].isin(kite_and_dw_msisdn['msisdn'])) ]"
   ]
  }
 ],
 "metadata": {
  "kernelspec": {
   "display_name": "Python 3 (ipykernel)",
   "language": "python",
   "name": "python3"
  },
  "language_info": {
   "codemirror_mode": {
    "name": "ipython",
    "version": 3
   },
   "file_extension": ".py",
   "mimetype": "text/x-python",
   "name": "python",
   "nbconvert_exporter": "python",
   "pygments_lexer": "ipython3",
   "version": "3.9.7"
  }
 },
 "nbformat": 4,
 "nbformat_minor": 5
}
